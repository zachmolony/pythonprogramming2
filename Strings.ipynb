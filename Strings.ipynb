{
 "cells": [
  {
   "cell_type": "markdown",
   "metadata": {},
   "source": [
    "# Strings\n",
    "\n",
    "A string is an immutable data type, meaning it cannot be altered.\n",
    "\n",
    "When printing variables, a [+] concatenates strings and can not be used to concatenate different data types. Here a [,] should be used to avoid a TypeError."
   ]
  },
  {
   "cell_type": "code",
   "execution_count": 8,
   "metadata": {},
   "outputs": [
    {
     "data": {
      "text/plain": [
       "'THIS IS A STRING'"
      ]
     },
     "execution_count": 8,
     "metadata": {},
     "output_type": "execute_result"
    }
   ],
   "source": [
    "s = \"This is a string\"\n",
    "s.upper()"
   ]
  },
  {
   "cell_type": "code",
   "execution_count": 9,
   "metadata": {},
   "outputs": [
    {
     "data": {
      "text/plain": [
       "'this is a string'"
      ]
     },
     "execution_count": 9,
     "metadata": {},
     "output_type": "execute_result"
    }
   ],
   "source": [
    "s.lower()"
   ]
  },
  {
   "cell_type": "code",
   "execution_count": 10,
   "metadata": {},
   "outputs": [
    {
     "data": {
      "text/plain": [
       "'white space'"
      ]
     },
     "execution_count": 10,
     "metadata": {},
     "output_type": "execute_result"
    }
   ],
   "source": [
    "#removes white space at the start and end of the string\n",
    "st = \" white space \"\n",
    "st.strip()"
   ]
  },
  {
   "cell_type": "markdown",
   "metadata": {},
   "source": [
    "### String checks\n",
    "```python\n",
    "str.isx()\n",
    "```\n",
    "Checks string is present and against a constraint, x can be:\n",
    "- alnum - alphanumerical\n",
    "- alpha - alphabetic\n",
    "- decimal - numbers\n",
    "- lower - lowercase\n",
    "- upper - uppercase\n",
    "- numeric - numerical"
   ]
  },
  {
   "cell_type": "code",
   "execution_count": 11,
   "metadata": {},
   "outputs": [
    {
     "data": {
      "text/plain": [
       "False"
      ]
     },
     "execution_count": 11,
     "metadata": {},
     "output_type": "execute_result"
    }
   ],
   "source": [
    "string = \"string1\"\n",
    "string.isalpha()"
   ]
  },
  {
   "cell_type": "code",
   "execution_count": 12,
   "metadata": {},
   "outputs": [
    {
     "data": {
      "text/plain": [
       "True"
      ]
     },
     "execution_count": 12,
     "metadata": {},
     "output_type": "execute_result"
    }
   ],
   "source": [
    "string.isalnum()"
   ]
  },
  {
   "cell_type": "code",
   "execution_count": 13,
   "metadata": {},
   "outputs": [
    {
     "data": {
      "text/plain": [
       "True"
      ]
     },
     "execution_count": 13,
     "metadata": {},
     "output_type": "execute_result"
    }
   ],
   "source": [
    "string.islower()"
   ]
  },
  {
   "cell_type": "markdown",
   "metadata": {},
   "source": [
    "### Converting strings"
   ]
  },
  {
   "cell_type": "code",
   "execution_count": 14,
   "metadata": {
    "scrolled": true
   },
   "outputs": [
    {
     "name": "stdout",
     "output_type": "stream",
     "text": [
      "'int' object has no attribute 'isalnum'\n"
     ]
    }
   ],
   "source": [
    "#This gives an attribute error as a string check cannot be used on an int\n",
    "age = 10\n",
    "try:\n",
    "    age.isalnum()\n",
    "except AttributeError as e:\n",
    "    print(e)"
   ]
  },
  {
   "cell_type": "code",
   "execution_count": 15,
   "metadata": {},
   "outputs": [
    {
     "data": {
      "text/plain": [
       "True"
      ]
     },
     "execution_count": 15,
     "metadata": {},
     "output_type": "execute_result"
    }
   ],
   "source": [
    "age = str(age)\n",
    "age.isalnum()"
   ]
  },
  {
   "cell_type": "markdown",
   "metadata": {},
   "source": [
    "### Splitting strings\n",
    "\n",
    "This can be done by using the .split function and then the char which you are splitting on. The index of the desired slice can be specified in square brackets such as:\n",
    "\n",
    "```python \n",
    "x = i.split(\",\")[0]\n",
    "```"
   ]
  },
  {
   "cell_type": "code",
   "execution_count": 16,
   "metadata": {},
   "outputs": [
    {
     "data": {
      "text/plain": [
       "'molony'"
      ]
     },
     "execution_count": 16,
     "metadata": {},
     "output_type": "execute_result"
    }
   ],
   "source": [
    "myString = \"zach,molony\"\n",
    "myString.split(\",\")[1]"
   ]
  },
  {
   "cell_type": "markdown",
   "metadata": {},
   "source": [
    "### String Constraints"
   ]
  },
  {
   "cell_type": "markdown",
   "metadata": {},
   "source": [
    "```python\n",
    "ascii_letters\n",
    "```\n",
    "'abcdefghijklmnopqrstuvwxyzABCDEFGHIJKLMNOPQRSTUVWXYZ'\n",
    "\n",
    "```python\n",
    "ascii_lowercase\n",
    "```\n",
    "'abcdefghijklmnopqrstuvwxyz'\n",
    "```python\n",
    "ascii_uppercase\n",
    "```\n",
    "'ABCDEFGHIJKLMNOPQRSTUVWXYZ'\n",
    "```python\n",
    "digits\n",
    "```\n",
    "'0123456789'\n",
    "```python\n",
    "hexdigits\n",
    "```\n",
    "'0123456789abcdefABCDEF'\n",
    "```python\n",
    "octdigits\n",
    "```\n",
    "'01234567'\n",
    "```python\n",
    "punctuation\n",
    "```\n",
    "Any punctuation defined in c locale\n",
    "```python\n",
    "printable\n",
    "```\n",
    "All printable characters\n",
    "```python\n",
    "whitespace\n",
    "```\n",
    "Tabs, spaces, return ect."
   ]
  },
  {
   "cell_type": "code",
   "execution_count": 17,
   "metadata": {},
   "outputs": [
    {
     "data": {
      "text/plain": [
       "'0123456789abcdefghijklmnopqrstuvwxyzABCDEFGHIJKLMNOPQRSTUVWXYZ!\"#$%&\\'()*+,-./:;<=>?@[\\\\]^_`{|}~ \\t\\n\\r\\x0b\\x0c'"
      ]
     },
     "execution_count": 17,
     "metadata": {},
     "output_type": "execute_result"
    }
   ],
   "source": [
    "from string import printable\n",
    "\n",
    "printable"
   ]
  },
  {
   "cell_type": "markdown",
   "metadata": {},
   "source": [
    "### String excercises"
   ]
  },
  {
   "cell_type": "code",
   "execution_count": 18,
   "metadata": {},
   "outputs": [
    {
     "name": "stdout",
     "output_type": "stream",
     "text": [
      "Q\n"
     ]
    }
   ],
   "source": [
    "#generating a random letter\n",
    "from random import choice\n",
    "from string import ascii_uppercase\n",
    "\n",
    "x = choice(ascii_uppercase)\n",
    "print(x)"
   ]
  },
  {
   "cell_type": "code",
   "execution_count": 19,
   "metadata": {},
   "outputs": [
    {
     "name": "stdout",
     "output_type": "stream",
     "text": [
      "The letter  Q is not in the word\n"
     ]
    }
   ],
   "source": [
    "#find the amount of times the letter appears in the word\n",
    "score = 0\n",
    "for i in \"PSEUDOPSEUDOHYPOPARATHYROIDISM\":\n",
    "    if i == x:\n",
    "        score += 1\n",
    "if score == 0:\n",
    "    print(\"The letter \", x,\"is not in the word\")\n",
    "else:\n",
    "    print(\"The letter\", x,\"appears\", score,\"times\")"
   ]
  },
  {
   "cell_type": "code",
   "execution_count": 21,
   "metadata": {},
   "outputs": [
    {
     "name": "stdout",
     "output_type": "stream",
     "text": [
      "enter a word: SmilePlease\n",
      "5m1lePlea5e11\n"
     ]
    }
   ],
   "source": [
    "#write a function that creates a STRONG password for a user, given a simple word that the user enters, \n",
    "#Each I in the word is replaced with a 1  \n",
    "#Each S in the word is replaced with a 5  \n",
    "#The length of the word is appended to the end of the password.\n",
    "word1 = input(\"enter a word: \")\n",
    "word = list(word1)\n",
    "i = 0\n",
    "for x in word:\n",
    "    if x == \"s\" or x == \"S\":\n",
    "        word.remove(x)\n",
    "        word.insert(i,\"5\")\n",
    "    elif x == \"i\" or x == \"I\":\n",
    "        word.remove(x)\n",
    "        word.insert(i,\"1\")\n",
    "    i += 1\n",
    "length = str(len(word))\n",
    "word.append(length)\n",
    "print(\"\".join(word))"
   ]
  },
  {
   "cell_type": "code",
   "execution_count": null,
   "metadata": {},
   "outputs": [],
   "source": []
  }
 ],
 "metadata": {
  "kernelspec": {
   "display_name": "Python 3",
   "language": "python",
   "name": "python3"
  },
  "language_info": {
   "codemirror_mode": {
    "name": "ipython",
    "version": 3
   },
   "file_extension": ".py",
   "mimetype": "text/x-python",
   "name": "python",
   "nbconvert_exporter": "python",
   "pygments_lexer": "ipython3",
   "version": "3.5.2"
  }
 },
 "nbformat": 4,
 "nbformat_minor": 2
}
