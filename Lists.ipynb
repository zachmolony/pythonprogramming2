{
 "cells": [
  {
   "cell_type": "markdown",
   "metadata": {},
   "source": [
    "# Lists\n",
    "\n",
    "A string is an mutable data type, meaning it can be altered.\n",
    "\n",
    "```python\n",
    "range(start[0], stop, step[1])\n",
    "```"
   ]
  },
  {
   "cell_type": "code",
   "execution_count": 41,
   "metadata": {},
   "outputs": [
    {
     "name": "stdout",
     "output_type": "stream",
     "text": [
      "1,4,2,5,6,8,3,2,"
     ]
    }
   ],
   "source": [
    "#printing from a list\n",
    "\n",
    "student1 = [1,4,2,5,6,8,3,2]\n",
    "ls = int(len(student1))\n",
    "for i in student1:\n",
    "    print(i,end=\",\")"
   ]
  },
  {
   "cell_type": "markdown",
   "metadata": {},
   "source": [
    "### Manipulating data in a list"
   ]
  },
  {
   "cell_type": "code",
   "execution_count": 42,
   "metadata": {},
   "outputs": [
    {
     "name": "stdout",
     "output_type": "stream",
     "text": [
      "3.875\n"
     ]
    }
   ],
   "source": [
    "#finding the average\n",
    "count = 0\n",
    "student1 = [1,4,2,5,6,8,3,2]\n",
    "lens = int(len(student1))\n",
    "for i in student1:\n",
    "    count += i\n",
    "ave = count / lens\n",
    "print(ave)"
   ]
  },
  {
   "cell_type": "code",
   "execution_count": 43,
   "metadata": {},
   "outputs": [
    {
     "name": "stdout",
     "output_type": "stream",
     "text": [
      "0\n",
      "2\n",
      "4\n"
     ]
    }
   ],
   "source": [
    "list = [0,1,2,3,4,5]\n",
    "for i in list:\n",
    "    if i % 2 == 0:\n",
    "        print(i)"
   ]
  },
  {
   "cell_type": "code",
   "execution_count": 44,
   "metadata": {},
   "outputs": [],
   "source": [
    "from random import randint\n",
    "\n",
    "r = randint(0,len(list))\n",
    "for i in list:\n",
    "    if i == r:\n",
    "        print(i)"
   ]
  },
  {
   "cell_type": "code",
   "execution_count": 45,
   "metadata": {},
   "outputs": [
    {
     "name": "stdout",
     "output_type": "stream",
     "text": [
      "5\n"
     ]
    }
   ],
   "source": [
    "from random import choice\n",
    "\n",
    "print(choice(list))"
   ]
  },
  {
   "cell_type": "markdown",
   "metadata": {},
   "source": [
    "## List methods\n",
    "\n",
    "### Appending\n",
    "\n",
    "```python\n",
    "list.append(elem)\n",
    "```\n",
    "Adds a value to the end of a list "
   ]
  },
  {
   "cell_type": "code",
   "execution_count": 46,
   "metadata": {},
   "outputs": [],
   "source": [
    "list1 = [1,2,4,5,6]"
   ]
  },
  {
   "cell_type": "code",
   "execution_count": 47,
   "metadata": {},
   "outputs": [
    {
     "name": "stdout",
     "output_type": "stream",
     "text": [
      "[1, 2, 4, 5, 6, 7]\n"
     ]
    }
   ],
   "source": [
    "list1.append(7)\n",
    "print(list1)"
   ]
  },
  {
   "cell_type": "markdown",
   "metadata": {},
   "source": [
    "### Inserting\n",
    "\n",
    "```python\n",
    "list.insert(position,elem)\n",
    "```\n",
    "Inserts the element at the given index, shifting elements to the right."
   ]
  },
  {
   "cell_type": "code",
   "execution_count": 48,
   "metadata": {},
   "outputs": [
    {
     "name": "stdout",
     "output_type": "stream",
     "text": [
      "[1, 2, 3, 4, 5, 6, 7]\n"
     ]
    }
   ],
   "source": [
    "list1.insert(2,3)\n",
    "print(list1)"
   ]
  },
  {
   "cell_type": "markdown",
   "metadata": {},
   "source": [
    "### Extending\n",
    "\n",
    "```python\n",
    "list.extend(listname) \n",
    "```\n",
    "adds the elements in list2 to the end of the list. Using + or += on a list is similar to using extend()."
   ]
  },
  {
   "cell_type": "code",
   "execution_count": 49,
   "metadata": {},
   "outputs": [
    {
     "name": "stdout",
     "output_type": "stream",
     "text": [
      "[1, 2, 3, 4, 5, 6, 7, 8]\n"
     ]
    }
   ],
   "source": [
    "list2 = [8]\n",
    "list1.extend(list2)\n",
    "print(list1)"
   ]
  },
  {
   "cell_type": "code",
   "execution_count": 50,
   "metadata": {},
   "outputs": [
    {
     "name": "stdout",
     "output_type": "stream",
     "text": [
      "[1, 2, 3, 4, 5, 6, 7, 8, 9]\n"
     ]
    }
   ],
   "source": [
    "list3 = [9]\n",
    "list1 += list3\n",
    "print(list1)"
   ]
  },
  {
   "cell_type": "markdown",
   "metadata": {},
   "source": [
    "### Indexing\n",
    "\n",
    "```python\n",
    "list.index(elem)\n",
    "```\n",
    "Searches for the given element from the start of the list and returns its index. Throws a ValueError if the element does not appear (use \"in\" to check without a ValueError)."
   ]
  },
  {
   "cell_type": "code",
   "execution_count": 51,
   "metadata": {},
   "outputs": [
    {
     "data": {
      "text/plain": [
       "2"
      ]
     },
     "execution_count": 51,
     "metadata": {},
     "output_type": "execute_result"
    }
   ],
   "source": [
    "list1.index(3)"
   ]
  },
  {
   "cell_type": "markdown",
   "metadata": {},
   "source": [
    "### Removing\n",
    "\n",
    "```python\n",
    "list.remove(elem)\n",
    "```\n",
    "Searches for the first instance of the given element and removes it (throws ValueError if not present)"
   ]
  },
  {
   "cell_type": "code",
   "execution_count": 52,
   "metadata": {},
   "outputs": [
    {
     "name": "stdout",
     "output_type": "stream",
     "text": [
      "[1, 2, 3, 4, 5, 6, 7, 8]\n"
     ]
    }
   ],
   "source": [
    "list1.remove(9)\n",
    "print(list1)"
   ]
  },
  {
   "cell_type": "markdown",
   "metadata": {},
   "source": [
    "### Sorting\n",
    "\n",
    "```python\n",
    "list.sort() \n",
    "```\n",
    "Sorts the list in place (does not return it). (The sorted() function shown below is preferred.)"
   ]
  },
  {
   "cell_type": "code",
   "execution_count": 53,
   "metadata": {},
   "outputs": [
    {
     "name": "stdout",
     "output_type": "stream",
     "text": [
      "[0, 1, 2, 3]\n"
     ]
    }
   ],
   "source": [
    "list4 = [1,3,0,2]\n",
    "list4.sort()\n",
    "print(list4)"
   ]
  },
  {
   "cell_type": "markdown",
   "metadata": {},
   "source": [
    "### Reverse\n",
    "\n",
    "```python\n",
    "list.reverse()\n",
    "```\n",
    "Reverses the list in place"
   ]
  },
  {
   "cell_type": "code",
   "execution_count": 54,
   "metadata": {},
   "outputs": [
    {
     "name": "stdout",
     "output_type": "stream",
     "text": [
      "[3, 2, 1, 0]\n"
     ]
    }
   ],
   "source": [
    "list4.reverse()\n",
    "print(list4)"
   ]
  },
  {
   "cell_type": "markdown",
   "metadata": {},
   "source": [
    "### Pop\n",
    "\n",
    "```python\n",
    "list.pop(index)\n",
    "```\n",
    "Removes and returns the element at the given index. If no index is given, it removes the last value."
   ]
  },
  {
   "cell_type": "code",
   "execution_count": 55,
   "metadata": {},
   "outputs": [
    {
     "name": "stdout",
     "output_type": "stream",
     "text": [
      "[1, 2]\n"
     ]
    }
   ],
   "source": [
    "list5 = [0,1,2]\n",
    "list5.pop(0)\n",
    "print(list5)"
   ]
  },
  {
   "cell_type": "code",
   "execution_count": 1,
   "metadata": {},
   "outputs": [
    {
     "name": "stdout",
     "output_type": "stream",
     "text": [
      "[1, 2]\n"
     ]
    }
   ],
   "source": [
    "list6 = [1,2,3]\n",
    "list6.pop()\n",
    "print(list6)"
   ]
  },
  {
   "cell_type": "markdown",
   "metadata": {},
   "source": [
    "## Slicing lists\n",
    "\n",
    "We can print only a section of a list by using printing to and from an index in the format:\n",
    "\n",
    "```python \n",
    "print(mylist[start:stop:step]\n",
    "```\n",
    "\n",
    "The default values of this operation are:\n",
    "\n",
    "```python \n",
    "print(mylist[0:len_list:1]\n",
    "```"
   ]
  },
  {
   "cell_type": "code",
   "execution_count": 2,
   "metadata": {},
   "outputs": [],
   "source": [
    "myList = ['ana', 'ben', 'carli', 'dee', 'elaine', 'fred', 'gustas']"
   ]
  },
  {
   "cell_type": "code",
   "execution_count": 6,
   "metadata": {},
   "outputs": [
    {
     "name": "stdout",
     "output_type": "stream",
     "text": [
      "['ana', 'ben', 'carli', 'dee', 'elaine', 'fred', 'gustas']\n"
     ]
    }
   ],
   "source": [
    "print(myList[0:len(myList)])"
   ]
  },
  {
   "cell_type": "code",
   "execution_count": 7,
   "metadata": {},
   "outputs": [
    {
     "name": "stdout",
     "output_type": "stream",
     "text": [
      "['ana', 'ben', 'carli', 'dee', 'elaine', 'fred', 'gustas']\n"
     ]
    }
   ],
   "source": [
    "print(myList[:])"
   ]
  },
  {
   "cell_type": "code",
   "execution_count": 10,
   "metadata": {},
   "outputs": [
    {
     "name": "stdout",
     "output_type": "stream",
     "text": [
      "['ana', 'ben', 'carli', 'dee', 'elaine', 'fred']\n"
     ]
    }
   ],
   "source": [
    "print(myList[0:-1])"
   ]
  },
  {
   "cell_type": "code",
   "execution_count": 11,
   "metadata": {},
   "outputs": [
    {
     "name": "stdout",
     "output_type": "stream",
     "text": [
      "['gustas', 'fred', 'elaine', 'dee', 'carli', 'ben']\n"
     ]
    }
   ],
   "source": [
    "#here as the stop goes just before the 0th term \n",
    "print(myList[len(myList):0:-1])"
   ]
  },
  {
   "cell_type": "code",
   "execution_count": 14,
   "metadata": {},
   "outputs": [
    {
     "name": "stdout",
     "output_type": "stream",
     "text": [
      "['gustas', 'fred', 'elaine', 'dee', 'carli', 'ben', 'ana']\n"
     ]
    }
   ],
   "source": [
    "#to solve this we can use the default value to reach the end of the list\n",
    "print(myList[len(myList)::-1])"
   ]
  },
  {
   "cell_type": "markdown",
   "metadata": {},
   "source": [
    "### Slicing excercises"
   ]
  },
  {
   "cell_type": "code",
   "execution_count": 15,
   "metadata": {},
   "outputs": [],
   "source": [
    "myList = ['ana,herrera', 'ben,ainslie', 'carli,simon', 'daniel,defoe', 'elaine,williams', 'fred,jones', 'george,gershwin,']"
   ]
  },
  {
   "cell_type": "code",
   "execution_count": 31,
   "metadata": {},
   "outputs": [
    {
     "name": "stdout",
     "output_type": "stream",
     "text": [
      "herrera\n",
      "ainslie\n",
      "simon\n",
      "defoe\n",
      "williams\n",
      "jones\n",
      "gershwin\n"
     ]
    }
   ],
   "source": [
    "#given this list above create a list of second names\n",
    "xlist = []\n",
    "for i in myList:\n",
    "    x = i.split(\",\")[1]\n",
    "    print(x)\n",
    "    xlist.append(x)"
   ]
  },
  {
   "cell_type": "code",
   "execution_count": 32,
   "metadata": {},
   "outputs": [
    {
     "name": "stdout",
     "output_type": "stream",
     "text": [
      "ana\n",
      "ben\n",
      "carli\n",
      "daniel\n",
      "elaine\n",
      "fred\n",
      "george\n"
     ]
    }
   ],
   "source": [
    "#given this list above create a list of first names\n",
    "ylist = []\n",
    "for i in myList:\n",
    "    x = i.split(\",\")[0]\n",
    "    print(x)\n",
    "    ylist.append(x)"
   ]
  },
  {
   "cell_type": "code",
   "execution_count": 33,
   "metadata": {},
   "outputs": [
    {
     "name": "stdout",
     "output_type": "stream",
     "text": [
      "['herrera', 'ainslie', 'simon', 'defoe', 'williams', 'jones', 'gershwin']\n",
      "['ana', 'ben', 'carli', 'daniel', 'elaine', 'fred', 'george']\n"
     ]
    }
   ],
   "source": [
    "print(xlist)\n",
    "print(ylist)"
   ]
  }
 ],
 "metadata": {
  "kernelspec": {
   "display_name": "Python 3",
   "language": "python",
   "name": "python3"
  },
  "language_info": {
   "codemirror_mode": {
    "name": "ipython",
    "version": 3
   },
   "file_extension": ".py",
   "mimetype": "text/x-python",
   "name": "python",
   "nbconvert_exporter": "python",
   "pygments_lexer": "ipython3",
   "version": "3.5.2"
  }
 },
 "nbformat": 4,
 "nbformat_minor": 2
}
